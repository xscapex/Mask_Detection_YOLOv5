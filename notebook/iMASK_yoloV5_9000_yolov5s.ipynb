{
  "nbformat": 4,
  "nbformat_minor": 0,
  "metadata": {
    "colab": {
      "name": "iMASK_yoloV5_9000_yolov5s.ipynb",
      "provenance": []
    },
    "kernelspec": {
      "name": "python3",
      "display_name": "Python 3"
    },
    "language_info": {
      "name": "python"
    }
  },
  "cells": [
    {
      "cell_type": "markdown",
      "source": [
        "Step 1. Install data from google drive"
      ],
      "metadata": {
        "id": "X82ZvPIEY06A"
      }
    },
    {
      "cell_type": "code",
      "execution_count": null,
      "metadata": {
        "id": "b_1OfgDHYPxz"
      },
      "outputs": [],
      "source": [
        "! rm -rf /content/datasets\n",
        "! mkdir /content/datasets"
      ]
    },
    {
      "cell_type": "code",
      "source": [
        "!pip install --upgrade --no-cache-dir gdown"
      ],
      "metadata": {
        "colab": {
          "base_uri": "https://localhost:8080/"
        },
        "id": "34YgU84MY9Re",
        "outputId": "5dd7a40a-6d24-40fb-d686-7f031dc7019c"
      },
      "execution_count": null,
      "outputs": [
        {
          "output_type": "stream",
          "name": "stdout",
          "text": [
            "Looking in indexes: https://pypi.org/simple, https://us-python.pkg.dev/colab-wheels/public/simple/\n",
            "Requirement already satisfied: gdown in /usr/local/lib/python3.7/dist-packages (4.4.0)\n",
            "Requirement already satisfied: tqdm in /usr/local/lib/python3.7/dist-packages (from gdown) (4.64.0)\n",
            "Requirement already satisfied: filelock in /usr/local/lib/python3.7/dist-packages (from gdown) (3.7.0)\n",
            "Requirement already satisfied: requests[socks] in /usr/local/lib/python3.7/dist-packages (from gdown) (2.23.0)\n",
            "Requirement already satisfied: six in /usr/local/lib/python3.7/dist-packages (from gdown) (1.15.0)\n",
            "Requirement already satisfied: beautifulsoup4 in /usr/local/lib/python3.7/dist-packages (from gdown) (4.6.3)\n",
            "Requirement already satisfied: urllib3!=1.25.0,!=1.25.1,<1.26,>=1.21.1 in /usr/local/lib/python3.7/dist-packages (from requests[socks]->gdown) (1.24.3)\n",
            "Requirement already satisfied: idna<3,>=2.5 in /usr/local/lib/python3.7/dist-packages (from requests[socks]->gdown) (2.10)\n",
            "Requirement already satisfied: chardet<4,>=3.0.2 in /usr/local/lib/python3.7/dist-packages (from requests[socks]->gdown) (3.0.4)\n",
            "Requirement already satisfied: certifi>=2017.4.17 in /usr/local/lib/python3.7/dist-packages (from requests[socks]->gdown) (2022.5.18.1)\n",
            "Requirement already satisfied: PySocks!=1.5.7,>=1.5.6 in /usr/local/lib/python3.7/dist-packages (from requests[socks]->gdown) (1.7.1)\n"
          ]
        }
      ]
    },
    {
      "cell_type": "code",
      "source": [
        "! pwd"
      ],
      "metadata": {
        "colab": {
          "base_uri": "https://localhost:8080/"
        },
        "id": "zKGj1gBaYQJR",
        "outputId": "ecba0c12-23a1-473b-cf3d-760dbc38b3f9"
      },
      "execution_count": null,
      "outputs": [
        {
          "output_type": "stream",
          "name": "stdout",
          "text": [
            "/content\n"
          ]
        }
      ]
    },
    {
      "cell_type": "code",
      "source": [
        "# Dowmload picture and annotation file\n",
        "!gdown https://drive.google.com/uc?id="
      ],
      "metadata": {
        "colab": {
          "base_uri": "https://localhost:8080/"
        },
        "id": "_ABCl7j1ZHmn",
        "outputId": "bbc7c800-8cdb-4221-f7dc-f0d28a43ce62"
      },
      "execution_count": null,
      "outputs": [
        {
          "output_type": "stream",
          "name": "stdout",
          "text": [
            "Downloading...\n",
            "From: https://drive.google.com/uc?id=1gNLAU3h2WyoNXsfH_6nO0NR5u6xfLjpX\n",
            "To: /content/PWMFD_All_9000.zip\n",
            "100% 1.34G/1.34G [00:11<00:00, 121MB/s]\n"
          ]
        }
      ]
    },
    {
      "cell_type": "code",
      "source": [
        "!unzip -q PWMFD_All_9000.zip -d /content/datasets && rm PWMFD_All_9000.zip"
      ],
      "metadata": {
        "id": "tfQUg0q9ZJwe"
      },
      "execution_count": null,
      "outputs": []
    },
    {
      "cell_type": "code",
      "source": [
        "# Dowmload .yaml file\n",
        "!gdown https://drive.google.com/uc?id="
      ],
      "metadata": {
        "colab": {
          "base_uri": "https://localhost:8080/"
        },
        "id": "refmaCpDaTwG",
        "outputId": "915f5121-5718-4deb-b4fe-72f36fa14b26"
      },
      "execution_count": null,
      "outputs": [
        {
          "output_type": "stream",
          "name": "stdout",
          "text": [
            "Downloading...\n",
            "From: https://drive.google.com/uc?id=1OloxRd2erkiAC4fCKMQHxVEEu-XwwxaB\n",
            "To: /content/data_9000.yaml\n",
            "\r  0% 0.00/862 [00:00<?, ?B/s]\r100% 862/862 [00:00<00:00, 1.41MB/s]\n"
          ]
        }
      ]
    },
    {
      "cell_type": "code",
      "source": [
        "!mv /content/data_9000.yaml /content/datasets/PWMFD_All_9000/"
      ],
      "metadata": {
        "id": "1UtgPEodhdBt"
      },
      "execution_count": null,
      "outputs": []
    },
    {
      "cell_type": "markdown",
      "source": [
        "Step 2. Data preprocessing: \n",
        "\n",
        "transform xml to .txt "
      ],
      "metadata": {
        "id": "mX_wEco1ZNhk"
      }
    },
    {
      "cell_type": "code",
      "source": [
        "# Define Data ETL function \n",
        "from bs4 import BeautifulSoup\n",
        "import os\n",
        "import shutil\n",
        "\n",
        "status_dic = {'with_mask': 2, 'incorrect_mask': 1, 'without_mask': 0}\n",
        "def getYoloFormat(filename,label_path, img_path, yolo_path, newname):\n",
        "    with open(label_path+ filename, 'r') as f:\n",
        "        soup = BeautifulSoup(f.read(), 'xml')\n",
        "        imgname = soup.select_one('filename').text\n",
        "        image_w = int(soup.select_one('width').text)\n",
        "        image_h = int(soup.select_one('height').text)\n",
        "        ary = []\n",
        "        for obj in soup.select('object'):\n",
        "            xmin = int(obj.select_one('xmin').text)\n",
        "            xmax = int(obj.select_one('xmax').text)\n",
        "            ymin = int(obj.select_one('ymin').text)\n",
        "            ymax = int(obj.select_one('ymax').text)\n",
        "            objclass = status_dic.get(obj.select_one('name').text)\n",
        "\n",
        "            x = (xmin + (xmax-xmin)/2) * 1.0 / image_w\n",
        "            y = (ymin + (ymax-ymin)/2) * 1.0 / image_h\n",
        "            w = (xmax-xmin) * 1.0 / image_w\n",
        "            h = (ymax-ymin) * 1.0 / image_h\n",
        "            ary.append(' '.join([str(objclass), str(x),str(y),str(w),str(h)]))\n",
        "        if os.path.exists(img_path + imgname):\n",
        "            #shutil.copyfile(img_path + imgname, yolo_path + newname + '.jpg')\n",
        "            with open(yolo_path + filename[0:6] + '.txt', 'w') as f:\n",
        "                f.write('\\n'.join(ary))"
      ],
      "metadata": {
        "id": "9RnxQceWZN7l"
      },
      "execution_count": null,
      "outputs": []
    },
    {
      "cell_type": "code",
      "source": [
        "# transform train data\n",
        "import os\n",
        "labelpath = '/content/datasets/PWMFD_All_9000/Annotations/train/'\n",
        "imgpath   = '/content/datasets/PWMFD_All_9000/images/train/'\n",
        "yolopath  = '/content/datasets/PWMFD_All_9000/labels/train/'\n",
        "ary = []\n",
        "for idx, f in enumerate(os.listdir(labelpath)):\n",
        "    try:\n",
        "        getYoloFormat(f, labelpath,imgpath, yolopath, str(idx))\n",
        "    except Exception as e:\n",
        "        print(e)"
      ],
      "metadata": {
        "id": "zaupuaYoZ17V",
        "colab": {
          "base_uri": "https://localhost:8080/"
        },
        "outputId": "105cf6a0-e2d4-4766-b26c-b776e7bfb903"
      },
      "execution_count": null,
      "outputs": [
        {
          "output_type": "stream",
          "name": "stdout",
          "text": [
            "'NoneType' object has no attribute 'text'\n"
          ]
        }
      ]
    },
    {
      "cell_type": "code",
      "source": [
        "# transform validation data\n",
        "import os\n",
        "labelpath = '/content/datasets/PWMFD_All_9000/Annotations/val/'\n",
        "imgpath   = '/content/datasets/PWMFD_All_9000/images/val/'\n",
        "yolopath  = '/content/datasets/PWMFD_All_9000/labels/val/'\n",
        "ary = []\n",
        "for idx, f in enumerate(os.listdir(labelpath)):\n",
        "    try:\n",
        "        getYoloFormat(f, labelpath,imgpath, yolopath, str(idx))\n",
        "    except Exception as e:\n",
        "        print(e)"
      ],
      "metadata": {
        "id": "BH8nr7XZZ5Fd",
        "colab": {
          "base_uri": "https://localhost:8080/"
        },
        "outputId": "3bbc7cd2-4cf7-45f3-d349-8c063dc19b9f"
      },
      "execution_count": null,
      "outputs": [
        {
          "output_type": "stream",
          "name": "stdout",
          "text": [
            "'NoneType' object has no attribute 'text'\n"
          ]
        }
      ]
    },
    {
      "cell_type": "code",
      "source": [
        "# view the data\n",
        "! cat /content/datasets/PWMFD_All_9000/labels/train/000002.txt"
      ],
      "metadata": {
        "id": "MvMezUw-Z-k9",
        "colab": {
          "base_uri": "https://localhost:8080/"
        },
        "outputId": "4e876bda-3a6e-4ba9-e2cc-8858ed75a971"
      },
      "execution_count": null,
      "outputs": [
        {
          "output_type": "stream",
          "name": "stdout",
          "text": [
            "2 0.5728542914171657 0.5147058823529411 0.4151696606786427 0.713903743315508"
          ]
        }
      ]
    },
    {
      "cell_type": "markdown",
      "source": [
        "Step 3. train our model"
      ],
      "metadata": {
        "id": "SQT3m4Bladrd"
      }
    },
    {
      "cell_type": "code",
      "source": [
        "# git clone yolov5 first\n",
        "!git clone https://github.com/ultralytics/yolov5  # clone\n",
        "%cd yolov5\n",
        "%pip install -qr requirements.txt  # install\n",
        "\n",
        "import torch\n",
        "from yolov5 import utils\n",
        "display = utils.notebook_init()  # checks"
      ],
      "metadata": {
        "id": "8di187ZCagTn",
        "colab": {
          "base_uri": "https://localhost:8080/"
        },
        "outputId": "9f7a365d-ff06-4a04-c1ef-801b18c47ec6"
      },
      "execution_count": null,
      "outputs": [
        {
          "output_type": "stream",
          "name": "stderr",
          "text": [
            "YOLOv5 🚀 v6.1-223-g1dcb774 Python-3.7.13 torch-1.11.0+cu113 CPU\n"
          ]
        },
        {
          "output_type": "stream",
          "name": "stdout",
          "text": [
            "Setup complete ✅ (2 CPUs, 12.7 GB RAM, 39.7/107.7 GB disk)\n"
          ]
        }
      ]
    },
    {
      "cell_type": "code",
      "source": [
        "! pwd"
      ],
      "metadata": {
        "colab": {
          "base_uri": "https://localhost:8080/"
        },
        "id": "K1r_DYYMajRv",
        "outputId": "ee2dd7d5-40a7-4b95-80d6-de0c25cb8c8a"
      },
      "execution_count": null,
      "outputs": [
        {
          "output_type": "stream",
          "name": "stdout",
          "text": [
            "/content/yolov5\n"
          ]
        }
      ]
    },
    {
      "cell_type": "code",
      "source": [
        "# Train our data by yolov5s\n",
        "!python train.py --img 320 --batch 16 --epochs 50 --data /content/datasets/PWMFD_All_9000/data_9000.yaml --weights yolov5s.pt --cache"
      ],
      "metadata": {
        "id": "V7Ppj-6SalCV",
        "colab": {
          "base_uri": "https://localhost:8080/"
        },
        "outputId": "f26a41d2-09ed-489a-a6b7-a52d39d8542b"
      },
      "execution_count": null,
      "outputs": [
        {
          "output_type": "stream",
          "name": "stdout",
          "text": [
            "\u001b[34m\u001b[1mtrain: \u001b[0mweights=yolov5s.pt, cfg=, data=/content/datasets/PWMFD_All_9000/data_9000.yaml, hyp=data/hyps/hyp.scratch-low.yaml, epochs=50, batch_size=16, imgsz=320, rect=False, resume=False, nosave=False, noval=False, noautoanchor=False, noplots=False, evolve=None, bucket=, cache=ram, image_weights=False, device=, multi_scale=False, single_cls=False, optimizer=SGD, sync_bn=False, workers=8, project=runs/train, name=exp, exist_ok=False, quad=False, cos_lr=False, label_smoothing=0.0, patience=100, freeze=[0], save_period=-1, local_rank=-1, entity=None, upload_dataset=False, bbox_interval=-1, artifact_alias=latest\n",
            "\u001b[34m\u001b[1mgithub: \u001b[0mup to date with https://github.com/ultralytics/yolov5 ✅\n",
            "YOLOv5 🚀 v6.1-223-g1dcb774 Python-3.7.13 torch-1.11.0+cu113 CPU\n",
            "\n",
            "\u001b[34m\u001b[1mhyperparameters: \u001b[0mlr0=0.01, lrf=0.01, momentum=0.937, weight_decay=0.0005, warmup_epochs=3.0, warmup_momentum=0.8, warmup_bias_lr=0.1, box=0.05, cls=0.5, cls_pw=1.0, obj=1.0, obj_pw=1.0, iou_t=0.2, anchor_t=4.0, fl_gamma=0.0, hsv_h=0.015, hsv_s=0.7, hsv_v=0.4, degrees=0.0, translate=0.1, scale=0.5, shear=0.0, perspective=0.0, flipud=0.0, fliplr=0.5, mosaic=1.0, mixup=0.0, copy_paste=0.0\n",
            "\u001b[34m\u001b[1mWeights & Biases: \u001b[0mrun 'pip install wandb' to automatically track and visualize YOLOv5 🚀 runs (RECOMMENDED)\n",
            "\u001b[34m\u001b[1mTensorBoard: \u001b[0mStart with 'tensorboard --logdir runs/train', view at http://localhost:6006/\n",
            "Downloading https://ultralytics.com/assets/Arial.ttf to /root/.config/Ultralytics/Arial.ttf...\n",
            "100% 755k/755k [00:00<00:00, 18.4MB/s]\n",
            "Downloading https://github.com/ultralytics/yolov5/releases/download/v6.1/yolov5s.pt to yolov5s.pt...\n",
            "100% 14.1M/14.1M [00:00<00:00, 107MB/s] \n",
            "\n",
            "Overriding model.yaml nc=80 with nc=3\n",
            "\n",
            "                 from  n    params  module                                  arguments                     \n",
            "  0                -1  1      3520  models.common.Conv                      [3, 32, 6, 2, 2]              \n",
            "  1                -1  1     18560  models.common.Conv                      [32, 64, 3, 2]                \n",
            "  2                -1  1     18816  models.common.C3                        [64, 64, 1]                   \n",
            "  3                -1  1     73984  models.common.Conv                      [64, 128, 3, 2]               \n",
            "  4                -1  2    115712  models.common.C3                        [128, 128, 2]                 \n",
            "  5                -1  1    295424  models.common.Conv                      [128, 256, 3, 2]              \n",
            "  6                -1  3    625152  models.common.C3                        [256, 256, 3]                 \n",
            "  7                -1  1   1180672  models.common.Conv                      [256, 512, 3, 2]              \n",
            "  8                -1  1   1182720  models.common.C3                        [512, 512, 1]                 \n",
            "  9                -1  1    656896  models.common.SPPF                      [512, 512, 5]                 \n",
            " 10                -1  1    131584  models.common.Conv                      [512, 256, 1, 1]              \n",
            " 11                -1  1         0  torch.nn.modules.upsampling.Upsample    [None, 2, 'nearest']          \n",
            " 12           [-1, 6]  1         0  models.common.Concat                    [1]                           \n",
            " 13                -1  1    361984  models.common.C3                        [512, 256, 1, False]          \n",
            " 14                -1  1     33024  models.common.Conv                      [256, 128, 1, 1]              \n",
            " 15                -1  1         0  torch.nn.modules.upsampling.Upsample    [None, 2, 'nearest']          \n",
            " 16           [-1, 4]  1         0  models.common.Concat                    [1]                           \n",
            " 17                -1  1     90880  models.common.C3                        [256, 128, 1, False]          \n",
            " 18                -1  1    147712  models.common.Conv                      [128, 128, 3, 2]              \n",
            " 19          [-1, 14]  1         0  models.common.Concat                    [1]                           \n",
            " 20                -1  1    296448  models.common.C3                        [256, 256, 1, False]          \n",
            " 21                -1  1    590336  models.common.Conv                      [256, 256, 3, 2]              \n",
            " 22          [-1, 10]  1         0  models.common.Concat                    [1]                           \n",
            " 23                -1  1   1182720  models.common.C3                        [512, 512, 1, False]          \n",
            " 24      [17, 20, 23]  1     21576  models.yolo.Detect                      [3, [[10, 13, 16, 30, 33, 23], [30, 61, 62, 45, 59, 119], [116, 90, 156, 198, 373, 326]], [128, 256, 512]]\n",
            "Model summary: 270 layers, 7027720 parameters, 7027720 gradients, 15.9 GFLOPs\n",
            "\n",
            "Transferred 343/349 items from yolov5s.pt\n",
            "Scaled weight_decay = 0.0005\n",
            "\u001b[34m\u001b[1moptimizer:\u001b[0m SGD with parameter groups 57 weight (no decay), 60 weight, 60 bias\n",
            "\u001b[34m\u001b[1malbumentations: \u001b[0mversion 1.0.3 required by YOLOv5, but version 0.1.12 is currently installed\n",
            "\u001b[34m\u001b[1mtrain: \u001b[0mScanning '/content/datasets/PWMFD_All_9000/labels/train' images and labels...3463 found, 0 missing, 1 empty, 0 corrupt:  47% 3463/7385 [00:04<00:03, 1218.82it/s]/usr/local/lib/python3.7/dist-packages/PIL/TiffImagePlugin.py:788: UserWarning: Corrupt EXIF data.  Expecting to read 12 bytes but only got 4. \n",
            "  warnings.warn(str(msg))\n",
            "\u001b[34m\u001b[1mtrain: \u001b[0mScanning '/content/datasets/PWMFD_All_9000/labels/train' images and labels...7385 found, 0 missing, 1 empty, 0 corrupt: 100% 7385/7385 [00:07<00:00, 948.69it/s] \n",
            "\u001b[34m\u001b[1mtrain: \u001b[0mWARNING: /content/datasets/PWMFD_All_9000/images/train/000140.jpg: corrupt JPEG restored and saved\n",
            "\u001b[34m\u001b[1mtrain: \u001b[0mWARNING: /content/datasets/PWMFD_All_9000/images/train/000250.jpg: corrupt JPEG restored and saved\n",
            "\u001b[34m\u001b[1mtrain: \u001b[0mWARNING: /content/datasets/PWMFD_All_9000/images/train/000256.jpg: corrupt JPEG restored and saved\n",
            "\u001b[34m\u001b[1mtrain: \u001b[0mWARNING: /content/datasets/PWMFD_All_9000/images/train/000307.jpg: corrupt JPEG restored and saved\n",
            "\u001b[34m\u001b[1mtrain: \u001b[0mWARNING: /content/datasets/PWMFD_All_9000/images/train/000627.jpg: corrupt JPEG restored and saved\n",
            "\u001b[34m\u001b[1mtrain: \u001b[0mWARNING: /content/datasets/PWMFD_All_9000/images/train/000855.jpg: corrupt JPEG restored and saved\n",
            "\u001b[34m\u001b[1mtrain: \u001b[0mWARNING: /content/datasets/PWMFD_All_9000/images/train/000992.jpg: corrupt JPEG restored and saved\n",
            "\u001b[34m\u001b[1mtrain: \u001b[0mWARNING: /content/datasets/PWMFD_All_9000/images/train/001043.jpg: corrupt JPEG restored and saved\n",
            "\u001b[34m\u001b[1mtrain: \u001b[0mWARNING: /content/datasets/PWMFD_All_9000/images/train/001074.jpg: corrupt JPEG restored and saved\n",
            "\u001b[34m\u001b[1mtrain: \u001b[0mWARNING: /content/datasets/PWMFD_All_9000/images/train/001280.jpg: corrupt JPEG restored and saved\n",
            "\u001b[34m\u001b[1mtrain: \u001b[0mWARNING: /content/datasets/PWMFD_All_9000/images/train/001392.jpg: corrupt JPEG restored and saved\n",
            "\u001b[34m\u001b[1mtrain: \u001b[0mWARNING: /content/datasets/PWMFD_All_9000/images/train/001481.jpg: corrupt JPEG restored and saved\n",
            "\u001b[34m\u001b[1mtrain: \u001b[0mWARNING: /content/datasets/PWMFD_All_9000/images/train/002031.jpg: corrupt JPEG restored and saved\n",
            "\u001b[34m\u001b[1mtrain: \u001b[0mWARNING: /content/datasets/PWMFD_All_9000/images/train/002158.jpg: corrupt JPEG restored and saved\n",
            "\u001b[34m\u001b[1mtrain: \u001b[0mWARNING: /content/datasets/PWMFD_All_9000/images/train/004669.jpg: corrupt JPEG restored and saved\n",
            "\u001b[34m\u001b[1mtrain: \u001b[0mWARNING: /content/datasets/PWMFD_All_9000/images/train/004694.jpg: corrupt JPEG restored and saved\n",
            "\u001b[34m\u001b[1mtrain: \u001b[0mWARNING: /content/datasets/PWMFD_All_9000/images/train/004737.jpg: corrupt JPEG restored and saved\n",
            "\u001b[34m\u001b[1mtrain: \u001b[0mWARNING: /content/datasets/PWMFD_All_9000/images/train/004771.jpg: corrupt JPEG restored and saved\n",
            "\u001b[34m\u001b[1mtrain: \u001b[0mWARNING: /content/datasets/PWMFD_All_9000/images/train/004773.jpg: corrupt JPEG restored and saved\n",
            "\u001b[34m\u001b[1mtrain: \u001b[0mWARNING: /content/datasets/PWMFD_All_9000/images/train/004782.jpg: corrupt JPEG restored and saved\n",
            "\u001b[34m\u001b[1mtrain: \u001b[0mWARNING: /content/datasets/PWMFD_All_9000/images/train/004796.jpg: corrupt JPEG restored and saved\n",
            "\u001b[34m\u001b[1mtrain: \u001b[0mWARNING: /content/datasets/PWMFD_All_9000/images/train/004813.jpg: corrupt JPEG restored and saved\n",
            "\u001b[34m\u001b[1mtrain: \u001b[0mWARNING: /content/datasets/PWMFD_All_9000/images/train/004876.jpg: corrupt JPEG restored and saved\n",
            "\u001b[34m\u001b[1mtrain: \u001b[0mWARNING: /content/datasets/PWMFD_All_9000/images/train/004946.jpg: corrupt JPEG restored and saved\n",
            "\u001b[34m\u001b[1mtrain: \u001b[0mWARNING: /content/datasets/PWMFD_All_9000/images/train/004993.jpg: corrupt JPEG restored and saved\n",
            "\u001b[34m\u001b[1mtrain: \u001b[0mWARNING: /content/datasets/PWMFD_All_9000/images/train/005011.jpg: corrupt JPEG restored and saved\n",
            "\u001b[34m\u001b[1mtrain: \u001b[0mWARNING: /content/datasets/PWMFD_All_9000/images/train/005056.jpg: corrupt JPEG restored and saved\n",
            "\u001b[34m\u001b[1mtrain: \u001b[0mWARNING: /content/datasets/PWMFD_All_9000/images/train/005098.jpg: corrupt JPEG restored and saved\n",
            "\u001b[34m\u001b[1mtrain: \u001b[0mWARNING: /content/datasets/PWMFD_All_9000/images/train/005129.jpg: corrupt JPEG restored and saved\n",
            "\u001b[34m\u001b[1mtrain: \u001b[0mWARNING: /content/datasets/PWMFD_All_9000/images/train/005200.jpg: corrupt JPEG restored and saved\n",
            "\u001b[34m\u001b[1mtrain: \u001b[0mWARNING: /content/datasets/PWMFD_All_9000/images/train/005264.jpg: corrupt JPEG restored and saved\n",
            "\u001b[34m\u001b[1mtrain: \u001b[0mWARNING: /content/datasets/PWMFD_All_9000/images/train/005265.jpg: corrupt JPEG restored and saved\n",
            "\u001b[34m\u001b[1mtrain: \u001b[0mWARNING: /content/datasets/PWMFD_All_9000/images/train/005266.jpg: corrupt JPEG restored and saved\n",
            "\u001b[34m\u001b[1mtrain: \u001b[0mWARNING: /content/datasets/PWMFD_All_9000/images/train/005269.jpg: corrupt JPEG restored and saved\n",
            "\u001b[34m\u001b[1mtrain: \u001b[0mWARNING: /content/datasets/PWMFD_All_9000/images/train/007218.jpg: corrupt JPEG restored and saved\n",
            "\u001b[34m\u001b[1mtrain: \u001b[0mWARNING: /content/datasets/PWMFD_All_9000/images/train/007228.jpg: corrupt JPEG restored and saved\n",
            "\u001b[34m\u001b[1mtrain: \u001b[0mWARNING: /content/datasets/PWMFD_All_9000/images/train/007920.jpg: corrupt JPEG restored and saved\n",
            "\u001b[34m\u001b[1mtrain: \u001b[0mWARNING: /content/datasets/PWMFD_All_9000/images/train/007968.jpg: corrupt JPEG restored and saved\n",
            "\u001b[34m\u001b[1mtrain: \u001b[0mWARNING: /content/datasets/PWMFD_All_9000/images/train/008021.jpg: corrupt JPEG restored and saved\n",
            "\u001b[34m\u001b[1mtrain: \u001b[0mWARNING: /content/datasets/PWMFD_All_9000/images/train/008762.jpg: corrupt JPEG restored and saved\n",
            "\u001b[34m\u001b[1mtrain: \u001b[0mWARNING: /content/datasets/PWMFD_All_9000/images/train/008792.jpg: corrupt JPEG restored and saved\n",
            "\u001b[34m\u001b[1mtrain: \u001b[0mWARNING: /content/datasets/PWMFD_All_9000/images/train/008796.jpg: corrupt JPEG restored and saved\n",
            "\u001b[34m\u001b[1mtrain: \u001b[0mWARNING: /content/datasets/PWMFD_All_9000/images/train/008869.jpg: corrupt JPEG restored and saved\n",
            "\u001b[34m\u001b[1mtrain: \u001b[0mNew cache created: /content/datasets/PWMFD_All_9000/labels/train.cache\n",
            "\u001b[34m\u001b[1mtrain: \u001b[0mCaching images (1.0GB ram):  63% 4620/7385 [01:08<08:52,  5.20it/s]"
          ]
        }
      ]
    },
    {
      "cell_type": "markdown",
      "source": [
        "Step 4. save our model"
      ],
      "metadata": {
        "id": "IdYkhdjKbPd7"
      }
    },
    {
      "cell_type": "code",
      "source": [
        "# mount the google drive\n",
        "from google.colab import drive\n",
        "drive.mount('/content/drive')"
      ],
      "metadata": {
        "colab": {
          "base_uri": "https://localhost:8080/"
        },
        "id": "e_keX2QxbOXG",
        "outputId": "ce7a258e-38d5-46ea-e7ac-873a61e8a861"
      },
      "execution_count": null,
      "outputs": [
        {
          "output_type": "stream",
          "name": "stdout",
          "text": [
            "Mounted at /content/drive\n"
          ]
        }
      ]
    },
    {
      "cell_type": "markdown",
      "source": [
        "Save if the data is not null!"
      ],
      "metadata": {
        "id": "dLwa2S3pvTMD"
      }
    },
    {
      "cell_type": "code",
      "source": [
        "! zip -r exp.zip /content/yolov5/runs/train/exp/"
      ],
      "metadata": {
        "id": "U7ddXWqEbT3L",
        "colab": {
          "base_uri": "https://localhost:8080/"
        },
        "outputId": "27ce6c17-2027-4ff6-a505-1544b1962ebe"
      },
      "execution_count": null,
      "outputs": [
        {
          "output_type": "stream",
          "name": "stdout",
          "text": [
            "  adding: content/yolov5/runs/train/exp/ (stored 0%)\n",
            "  adding: content/yolov5/runs/train/exp/opt.yaml (deflated 40%)\n",
            "  adding: content/yolov5/runs/train/exp/weights/ (stored 0%)\n",
            "  adding: content/yolov5/runs/train/exp/labels.jpg (deflated 20%)\n",
            "  adding: content/yolov5/runs/train/exp/train_batch0.jpg (deflated 3%)\n",
            "  adding: content/yolov5/runs/train/exp/train_batch1.jpg (deflated 3%)\n",
            "  adding: content/yolov5/runs/train/exp/events.out.tfevents.1646187465.6f86d262de38.402.0 (deflated 93%)\n",
            "  adding: content/yolov5/runs/train/exp/labels_correlogram.jpg (deflated 19%)\n",
            "  adding: content/yolov5/runs/train/exp/train_batch2.jpg (deflated 2%)\n",
            "  adding: content/yolov5/runs/train/exp/hyp.yaml (deflated 45%)\n"
          ]
        }
      ]
    },
    {
      "cell_type": "code",
      "source": [
        "! pwd"
      ],
      "metadata": {
        "colab": {
          "base_uri": "https://localhost:8080/"
        },
        "id": "3ojebalodOs9",
        "outputId": "89b78b18-3927-4e21-e833-53ecf266eea4"
      },
      "execution_count": null,
      "outputs": [
        {
          "output_type": "stream",
          "name": "stdout",
          "text": [
            "/content/yolov5\n"
          ]
        }
      ]
    },
    {
      "cell_type": "code",
      "source": [
        "! mv /content/yolov5/exp.zip /content/drive/MyDrive/"
      ],
      "metadata": {
        "id": "xAaPTS4ObV-h"
      },
      "execution_count": null,
      "outputs": []
    }
  ]
}